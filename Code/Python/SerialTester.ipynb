{
 "cells": [
  {
   "cell_type": "markdown",
   "metadata": {},
   "source": [
    "# Appunti per comunicazione\n",
    "\n"
   ]
  },
  {
   "cell_type": "code",
   "execution_count": 1,
   "metadata": {},
   "outputs": [
    {
     "name": "stdout",
     "output_type": "stream",
     "text": [
      "\n",
      "\n",
      "\n",
      "\n",
      "\n",
      "\n",
      "\n",
      "\n",
      "\n",
      "\n",
      "\n",
      "Risposta ricevuta: TX=40000\n"
     ]
    },
    {
     "ename": "KeyboardInterrupt",
     "evalue": "Interrupted by user",
     "output_type": "error",
     "traceback": [
      "\u001b[1;31m---------------------------------------------------------------------------\u001b[0m",
      "\u001b[1;31mKeyboardInterrupt\u001b[0m                         Traceback (most recent call last)",
      "Cell \u001b[1;32mIn[1], line 26\u001b[0m\n\u001b[0;32m     23\u001b[0m \u001b[38;5;28mprint\u001b[39m(\u001b[38;5;124mf\u001b[39m\u001b[38;5;124m\"\u001b[39m\u001b[38;5;124mRisposta ricevuta: \u001b[39m\u001b[38;5;132;01m{\u001b[39;00mresponse\u001b[38;5;132;01m}\u001b[39;00m\u001b[38;5;124m\"\u001b[39m)\n\u001b[0;32m     25\u001b[0m \u001b[38;5;66;03m# Chiudi la porta seriale\u001b[39;00m\n\u001b[1;32m---> 26\u001b[0m \u001b[38;5;28;43minput\u001b[39;49m\u001b[43m(\u001b[49m\u001b[43m)\u001b[49m\n\u001b[0;32m     27\u001b[0m ser\u001b[38;5;241m.\u001b[39mclose()\n",
      "File \u001b[1;32m~\\AppData\\Roaming\\Python\\Python313\\site-packages\\ipykernel\\kernelbase.py:1282\u001b[0m, in \u001b[0;36mKernel.raw_input\u001b[1;34m(self, prompt)\u001b[0m\n\u001b[0;32m   1280\u001b[0m     msg \u001b[38;5;241m=\u001b[39m \u001b[38;5;124m\"\u001b[39m\u001b[38;5;124mraw_input was called, but this frontend does not support input requests.\u001b[39m\u001b[38;5;124m\"\u001b[39m\n\u001b[0;32m   1281\u001b[0m     \u001b[38;5;28;01mraise\u001b[39;00m StdinNotImplementedError(msg)\n\u001b[1;32m-> 1282\u001b[0m \u001b[38;5;28;01mreturn\u001b[39;00m \u001b[38;5;28;43mself\u001b[39;49m\u001b[38;5;241;43m.\u001b[39;49m\u001b[43m_input_request\u001b[49m\u001b[43m(\u001b[49m\n\u001b[0;32m   1283\u001b[0m \u001b[43m    \u001b[49m\u001b[38;5;28;43mstr\u001b[39;49m\u001b[43m(\u001b[49m\u001b[43mprompt\u001b[49m\u001b[43m)\u001b[49m\u001b[43m,\u001b[49m\n\u001b[0;32m   1284\u001b[0m \u001b[43m    \u001b[49m\u001b[38;5;28;43mself\u001b[39;49m\u001b[38;5;241;43m.\u001b[39;49m\u001b[43m_parent_ident\u001b[49m\u001b[43m[\u001b[49m\u001b[38;5;124;43m\"\u001b[39;49m\u001b[38;5;124;43mshell\u001b[39;49m\u001b[38;5;124;43m\"\u001b[39;49m\u001b[43m]\u001b[49m\u001b[43m,\u001b[49m\n\u001b[0;32m   1285\u001b[0m \u001b[43m    \u001b[49m\u001b[38;5;28;43mself\u001b[39;49m\u001b[38;5;241;43m.\u001b[39;49m\u001b[43mget_parent\u001b[49m\u001b[43m(\u001b[49m\u001b[38;5;124;43m\"\u001b[39;49m\u001b[38;5;124;43mshell\u001b[39;49m\u001b[38;5;124;43m\"\u001b[39;49m\u001b[43m)\u001b[49m\u001b[43m,\u001b[49m\n\u001b[0;32m   1286\u001b[0m \u001b[43m    \u001b[49m\u001b[43mpassword\u001b[49m\u001b[38;5;241;43m=\u001b[39;49m\u001b[38;5;28;43;01mFalse\u001b[39;49;00m\u001b[43m,\u001b[49m\n\u001b[0;32m   1287\u001b[0m \u001b[43m\u001b[49m\u001b[43m)\u001b[49m\n",
      "File \u001b[1;32m~\\AppData\\Roaming\\Python\\Python313\\site-packages\\ipykernel\\kernelbase.py:1325\u001b[0m, in \u001b[0;36mKernel._input_request\u001b[1;34m(self, prompt, ident, parent, password)\u001b[0m\n\u001b[0;32m   1322\u001b[0m \u001b[38;5;28;01mexcept\u001b[39;00m \u001b[38;5;167;01mKeyboardInterrupt\u001b[39;00m:\n\u001b[0;32m   1323\u001b[0m     \u001b[38;5;66;03m# re-raise KeyboardInterrupt, to truncate traceback\u001b[39;00m\n\u001b[0;32m   1324\u001b[0m     msg \u001b[38;5;241m=\u001b[39m \u001b[38;5;124m\"\u001b[39m\u001b[38;5;124mInterrupted by user\u001b[39m\u001b[38;5;124m\"\u001b[39m\n\u001b[1;32m-> 1325\u001b[0m     \u001b[38;5;28;01mraise\u001b[39;00m \u001b[38;5;167;01mKeyboardInterrupt\u001b[39;00m(msg) \u001b[38;5;28;01mfrom\u001b[39;00m \u001b[38;5;28;01mNone\u001b[39;00m\n\u001b[0;32m   1326\u001b[0m \u001b[38;5;28;01mexcept\u001b[39;00m \u001b[38;5;167;01mException\u001b[39;00m:\n\u001b[0;32m   1327\u001b[0m     \u001b[38;5;28mself\u001b[39m\u001b[38;5;241m.\u001b[39mlog\u001b[38;5;241m.\u001b[39mwarning(\u001b[38;5;124m\"\u001b[39m\u001b[38;5;124mInvalid Message:\u001b[39m\u001b[38;5;124m\"\u001b[39m, exc_info\u001b[38;5;241m=\u001b[39m\u001b[38;5;28;01mTrue\u001b[39;00m)\n",
      "\u001b[1;31mKeyboardInterrupt\u001b[0m: Interrupted by user"
     ]
    }
   ],
   "source": [
    "import serial\n",
    "import time\n",
    "\n",
    "ser = serial.Serial()\n",
    "ser.port = \"COM5\"\n",
    "ser.baudrate = 115200   \n",
    "ser.timeout = 1\n",
    "ser.rts = False\n",
    "ser.dtr = False\n",
    "ser.open()\n",
    "#ser = serial.Serial('COM11', 115200, timeout=1, dsrdtr = False)\n",
    "#time.sleep(2)  # Attendi che la connessione si stabilisca (utile per dispositivi come Arduino)\n",
    "for i in range(11):\n",
    "    response = ser.readline().decode('utf-8')\n",
    "    print(response[:-1])\n",
    "\n",
    "# Manda il comando\n",
    "ser.write(b'TX 40000.0\\n')  # Usa '\\n' se il dispositivo si aspetta newline. Modifica se serve '\\r' o '\\r\\n' # 1 step = 2 micron\n",
    "# velocità di default = 4000 microstep al secondo\n",
    "\n",
    "# Attendi e leggi la risposta\n",
    "response = ser.readline().decode('utf-8').strip()\n",
    "print(f\"Risposta ricevuta: {response}\")\n",
    "\n",
    "# Chiudi la porta seriale\n",
    "input()\n",
    "ser.close()\n"
   ]
  },
  {
   "cell_type": "code",
   "execution_count": 4,
   "metadata": {},
   "outputs": [
    {
     "name": "stdout",
     "output_type": "stream",
     "text": [
      "Device: COM5\n"
     ]
    }
   ],
   "source": [
    "# Codice per riconoscere che porta è\n",
    "\n",
    "from serial.tools import list_ports\n",
    "\n",
    "ports = list_ports.comports()\n",
    "\n",
    "for port in ports:\n",
    "    print(f\"Device: {port.device}\")"
   ]
  },
  {
   "cell_type": "code",
   "execution_count": 2,
   "metadata": {},
   "outputs": [
    {
     "name": "stdout",
     "output_type": "stream",
     "text": [
      "\n",
      "\n",
      "\n",
      "\n",
      "\n",
      "\n",
      "\n",
      "\n",
      "\n",
      "\n",
      "\n",
      "Risposta ricevuta: TX=40000\n"
     ]
    }
   ],
   "source": [
    "import serial\n",
    "import time\n",
    "\n",
    "ser = serial.Serial()\n",
    "ser.port = \"COM5\"\n",
    "ser.baudrate = 115200   \n",
    "ser.timeout = 1 # timeout = 0 fa proseguire il programma, timeout = 1 fa andare avanti il programma dopo che ha finito di spostare\n",
    "ser.rts = False\n",
    "ser.dtr = False\n",
    "ser.open()\n",
    "#ser = serial.Serial('COM11', 115200, timeout=1, dsrdtr = False)\n",
    "#time.sleep(2)  # Attendi che la connessione si stabilisca (utile per dispositivi come Arduino)\n",
    "for i in range(11):\n",
    "    response = ser.readline().decode('utf-8')\n",
    "    print(response[:-1])\n",
    "\n",
    "# Manda il comando\n",
    "# ser.write(b'X 0\\n') # setta lo zero alla posizione attuale\n",
    "# ser.write(b'X?\\n') # richiesta posizione\n",
    "ser.write(b'TX 40000\\n') # TX = target ([0, 80000]), DX = spostamento\n",
    "ser.write(b'SX 5000.0\\n') # setta la velocità. Velocità di default = 4000 microstep al secondo\n",
    "# ser.write(b'SX?\\n') # non funziona\n",
    "\n",
    "# Attendi e leggi la risposta # di solito sono scommentate, ma non so se servono\n",
    "response = ser.readline().decode('utf-8').strip()\n",
    "print(f\"Risposta ricevuta: {response}\")\n",
    "\n",
    "# Chiudi la porta seriale\n",
    "input()\n",
    "ser.close()"
   ]
  }
 ],
 "metadata": {
  "kernelspec": {
   "display_name": "Python 3",
   "language": "python",
   "name": "python3"
  },
  "language_info": {
   "codemirror_mode": {
    "name": "ipython",
    "version": 3
   },
   "file_extension": ".py",
   "mimetype": "text/x-python",
   "name": "python",
   "nbconvert_exporter": "python",
   "pygments_lexer": "ipython3",
   "version": "3.13.1"
  }
 },
 "nbformat": 4,
 "nbformat_minor": 2
}
