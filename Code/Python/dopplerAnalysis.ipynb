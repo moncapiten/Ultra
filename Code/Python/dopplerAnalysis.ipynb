{
 "cells": [
  {
   "cell_type": "code",
   "execution_count": 31,
   "id": "f0877f90",
   "metadata": {},
   "outputs": [
    {
     "name": "stdout",
     "output_type": "stream",
     "text": [
      "dopplerShift-0-0_0.txt\n",
      "dopplerShift-0-0_1.txt\n",
      "dopplerShift-0-0_2.txt\n",
      "dopplerShift-0-0_3.txt\n",
      "dopplerShift-0-0_4.txt\n",
      "dopplerShift-0-0_5.txt\n",
      "dopplerShift-0-0_6.txt\n",
      "dopplerShift-0-0_7.txt\n"
     ]
    }
   ],
   "source": [
    "import numpy as np\n",
    "import matplotlib\n",
    "matplotlib.use('TKAgg')  # Use a non-interactive backend for matplotlib\n",
    "import matplotlib.pyplot as plt\n",
    "\n",
    "\n",
    "#path = '../../Data/doppler_20250509_102751/'\n",
    "path = '../../Data/doppler_20250513_090948/'\n",
    "#path = '../../Data/doppler_20250513_091749/'\n",
    "#filename = 'dopplerShift-0-80000'\n",
    "filename = 'dopplerShift-0-0'\n",
    "#numFiles = 6\n",
    "numFiles = 8\n",
    "\n",
    "tt, tx, rx = [], [], []\n",
    "\n",
    "for i in range(0, numFiles):\n",
    "    specificFilename = filename + '_' + str(i) + '.txt'\n",
    "    print(specificFilename)\n",
    "    # Load the data from the file\n",
    "    # The data is assumed to be in three columns: time, tx, rx  \n",
    "    _tt, _tx, _rx = np.loadtxt(path+specificFilename, unpack=True)\n",
    "    tt = tt + _tt.tolist()\n",
    "    tx = tx + _tx.tolist()\n",
    "    rx = rx + _rx.tolist()\n",
    "\n",
    "\n"
   ]
  },
  {
   "cell_type": "code",
   "execution_count": 36,
   "id": "982e5458",
   "metadata": {},
   "outputs": [
    {
     "name": "stdout",
     "output_type": "stream",
     "text": [
      "3522560\n",
      "3522560\n",
      "3522560\n"
     ]
    }
   ],
   "source": [
    "print(len(tt))\n",
    "print(len(tx))\n",
    "print(len(rx))\n",
    "\n",
    "\n",
    "\n",
    "plt.plot(tt[0:10000], rx[0:10000], label='tx')\n",
    "plt.show()"
   ]
  },
  {
   "cell_type": "code",
   "execution_count": null,
   "id": "ebdd059f",
   "metadata": {},
   "outputs": [
    {
     "name": "stdout",
     "output_type": "stream",
     "text": [
      "9.301760453125128e-09\n",
      "1.999878497421916e-06\n"
     ]
    }
   ],
   "source": [
    "\n",
    "newtt = []\n",
    "\n",
    "shift = 0\n",
    "for i in range(len(tt)):\n",
    "#    if(i > 600000):\n",
    "#        break\n",
    "\n",
    "    newtt.append( ( tt[i] ) + shift )\n",
    "\n",
    "    if( i != len(tt)-1 and tt[i] > 0 and tt[i+1] < 0):\n",
    "        shift = newtt[-1] - tt[i+1]\n",
    "\n",
    "\n",
    "print(np.mean(np.diff(tt)))\n",
    "print(np.mean(np.diff(newtt)))\n",
    "\n",
    "tt = newtt"
   ]
  },
  {
   "cell_type": "code",
   "execution_count": 78,
   "id": "0881c4bd",
   "metadata": {},
   "outputs": [],
   "source": [
    "len(tt)/len(newtt)\n",
    "\n",
    "plt.plot(np.linspace(0, len(newtt), len(newtt)), newtt, 'r.')\n",
    "plt.plot(np.linspace(0, len(newtt), len(newtt)), tt[0:len(newtt)], 'b.')\n",
    "plt.show()"
   ]
  },
  {
   "cell_type": "code",
   "execution_count": 30,
   "id": "123ace86",
   "metadata": {},
   "outputs": [
    {
     "name": "stdout",
     "output_type": "stream",
     "text": [
      "1.0 1.0\n"
     ]
    }
   ],
   "source": [
    "freqs = np.fft.rfftfreq(len(tt), np.mean(np.diff(tt)))\n",
    "ftx = np.abs(np.fft.rfft(tx))\n",
    "frx = np.abs(np.fft.rfft(rx))\n",
    "\n",
    "ftx /= np.max(ftx)\n",
    "frx /= np.max(frx)\n",
    "\n",
    "print(np.max(ftx), np.max(frx))\n",
    "\n",
    "# plot the data\n",
    "plt.figure(figsize=(10, 5))\n",
    "plt.plot(freqs, ftx, label='tx')\n",
    "plt.plot(freqs, frx, label='rx')\n",
    "\n",
    "\n",
    "#plt.xlim(1, 5e4)\n",
    "#plt.xscale('log')\n",
    "\n",
    "plt.xlim(39.750e3, 40.250e3)\n",
    "\n",
    "#plt.yscale('log')\n",
    "plt.xlabel('Frequency (Hz)')\n",
    "\n",
    "plt.show()"
   ]
  },
  {
   "cell_type": "code",
   "execution_count": 20,
   "id": "971f584f",
   "metadata": {},
   "outputs": [],
   "source": [
    "# fourier transform\n",
    "freqs = np.fft.rfftfreq(len(tt), np.mean(np.diff(tt)))\n",
    "np.fft.rfft(tx)\n",
    "np.fft.rfft(rx)\n",
    "\n",
    "# plot the data\n",
    "plt.figure(figsize=(10, 5))\n",
    "plt.plot(freqs, np.abs(np.fft.rfft(tx)), label='tx')\n",
    "plt.plot(freqs, np.abs(np.fft.rfft(rx)), label='rx')\n",
    "plt.show()"
   ]
  },
  {
   "cell_type": "code",
   "execution_count": 4,
   "id": "0dcaab0b",
   "metadata": {},
   "outputs": [],
   "source": [
    "sim = np.linspace(0, 20, len(tt))\n",
    "\n",
    "\n",
    "plt.hist(tt, bins=10000)\n",
    "plt.hist(sim, bins=10000, alpha=0.5, label='simulated')\n",
    "plt.show()\n",
    "\n",
    "\n"
   ]
  }
 ],
 "metadata": {
  "kernelspec": {
   "display_name": "Python 3",
   "language": "python",
   "name": "python3"
  },
  "language_info": {
   "codemirror_mode": {
    "name": "ipython",
    "version": 3
   },
   "file_extension": ".py",
   "mimetype": "text/x-python",
   "name": "python",
   "nbconvert_exporter": "python",
   "pygments_lexer": "ipython3",
   "version": "3.12.6"
  }
 },
 "nbformat": 4,
 "nbformat_minor": 5
}
