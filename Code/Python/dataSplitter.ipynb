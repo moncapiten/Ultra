{
 "cells": [
  {
   "cell_type": "markdown",
   "metadata": {},
   "source": [
    "Necessary cause the 100Takes data file with iconfig=2(16384 points per data pull) are too big to be saved in github, and i got no idea how to set up GLFS( Git Large Files Storage)"
   ]
  },
  {
   "cell_type": "code",
   "execution_count": 6,
   "metadata": {},
   "outputs": [
    {
     "name": "stdout",
     "output_type": "stream",
     "text": [
      "Saved file: freqHeatMap_300Takes_0.458V_narrowRange_0.txt\n",
      "Saved file: freqHeatMap_300Takes_0.458V_narrowRange_1.txt\n",
      "Saved file: freqHeatMap_300Takes_0.458V_narrowRange_2.txt\n",
      "Saved file: freqHeatMap_300Takes_0.458V_narrowRange_3.txt\n",
      "Saved file: freqHeatMap_300Takes_0.458V_narrowRange_4.txt\n",
      "Saved file: freqHeatMap_300Takes_0.458V_narrowRange_5.txt\n",
      "Saved file: freqHeatMap_300Takes_0.458V_narrowRange_6.txt\n"
     ]
    }
   ],
   "source": [
    "import numpy as np\n",
    "\n",
    "filename = 'freqHeatMap_300Takes_0.458V_narrowRange'\n",
    "dataPosition = '../Data/newData/'\n",
    "rawdata = np.loadtxt(dataPosition+filename+'.txt', delimiter=' ', dtype=float)\n",
    "\n",
    "\n",
    "pointsPerPeriod = 16384\n",
    "periodsAllowed = 50\n",
    "maxFileLen = pointsPerPeriod * periodsAllowed\n",
    "piecesCounter = 0\n",
    "\n",
    "# data is saved in smaller files to avoid memory issues\n",
    "\n",
    "for i in range(0, len(rawdata), maxFileLen):\n",
    "    np.savetxt(dataPosition+filename+'_'+str(piecesCounter)+'.txt', rawdata[i:i+maxFileLen], fmt='%f', delimiter=' ')\n",
    "    print('Saved file: '+filename+'_'+str(piecesCounter)+'.txt')\n",
    "    piecesCounter += 1\n"
   ]
  }
 ],
 "metadata": {
  "kernelspec": {
   "display_name": "Python 3",
   "language": "python",
   "name": "python3"
  },
  "language_info": {
   "codemirror_mode": {
    "name": "ipython",
    "version": 3
   },
   "file_extension": ".py",
   "mimetype": "text/x-python",
   "name": "python",
   "nbconvert_exporter": "python",
   "pygments_lexer": "ipython3",
   "version": "3.12.6"
  }
 },
 "nbformat": 4,
 "nbformat_minor": 2
}
