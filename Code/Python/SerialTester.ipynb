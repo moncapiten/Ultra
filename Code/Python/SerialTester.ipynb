{
 "cells": [
  {
   "cell_type": "markdown",
   "metadata": {},
   "source": [
    "# Appunti per comunicazione\n",
    "\n"
   ]
  },
  {
   "cell_type": "code",
   "execution_count": null,
   "metadata": {},
   "outputs": [
    {
     "name": "stdout",
     "output_type": "stream",
     "text": [
      "\n",
      "\n",
      "\n",
      "\n",
      "\n",
      "\n",
      "\n",
      "\n",
      "\n",
      "\n",
      "\n",
      "Risposta ricevuta: TX=0\n"
     ]
    }
   ],
   "source": [
    "import serial\n",
    "import time\n",
    "\n",
    "ser = serial.Serial()\n",
    "ser.port = \"COM12\"\n",
    "ser.baudrate = 115200   \n",
    "ser.timeout = 1\n",
    "ser.rts = False\n",
    "ser.dtr = False\n",
    "ser.open()\n",
    "#ser = serial.Serial('COM11', 115200, timeout=1, dsrdtr = False)\n",
    "#time.sleep(2)  # Attendi che la connessione si stabilisca (utile per dispositivi come Arduino)\n",
    "for i in range(11):\n",
    "    response = ser.readline().decode('utf-8')\n",
    "    print(response[:-1])\n",
    "\n",
    "# Manda il comando\n",
    "ser.write(b'DX -10000.0\\n')  # Usa '\\n' se il dispositivo si aspetta newline. Modifica se serve '\\r' o '\\r\\n'\n",
    "\n",
    "# Attendi e leggi la risposta\n",
    "response = ser.readline().decode('utf-8').strip()\n",
    "print(f\"Risposta ricevuta: {response}\")\n",
    "\n",
    "# Chiudi la porta seriale\n",
    "input()\n",
    "ser.close()\n",
    "\n"
   ]
  }
 ],
 "metadata": {
  "kernelspec": {
   "display_name": "base",
   "language": "python",
   "name": "python3"
  },
  "language_info": {
   "codemirror_mode": {
    "name": "ipython",
    "version": 3
   },
   "file_extension": ".py",
   "mimetype": "text/x-python",
   "name": "python",
   "nbconvert_exporter": "python",
   "pygments_lexer": "ipython3",
   "version": "3.11.7"
  }
 },
 "nbformat": 4,
 "nbformat_minor": 2
}
