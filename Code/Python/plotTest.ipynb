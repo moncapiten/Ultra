{
 "cells": [
  {
   "cell_type": "code",
   "execution_count": null,
   "id": "23de8267",
   "metadata": {},
   "outputs": [],
   "source": [
    "import matplotlib\n",
    "matplotlib.use('TKAgg')\n",
    "import matplotlib.pyplot as plt\n",
    "import numpy as np\n",
    "from pastamarkers import pasta\n",
    "\n",
    "\n",
    "xx = np.linspace(0, 2 * np.pi, 15)\n",
    "ss = np.sin(xx)\n",
    "cc = np.cos(xx)\n",
    "tt = np.tan(xx)\n",
    "\n",
    "plt.scatter(xx, ss, marker=pasta.penne, linewidth=0.1, s=500, label='sin', color='r')\n",
    "plt.scatter(xx, cc, marker=pasta.fusilli2, s=500, label='sin', color='g')\n",
    "plt.scatter(xx, tt, marker=pasta.farfalle, s=500, label='sin', color='b')\n",
    "\n",
    "plt.grid(which='both', linestyle='-.')\n",
    "plt.show()"
   ]
  }
 ],
 "metadata": {
  "kernelspec": {
   "display_name": "Python 3",
   "language": "python",
   "name": "python3"
  },
  "language_info": {
   "codemirror_mode": {
    "name": "ipython",
    "version": 3
   },
   "file_extension": ".py",
   "mimetype": "text/x-python",
   "name": "python",
   "nbconvert_exporter": "python",
   "pygments_lexer": "ipython3",
   "version": "3.12.6"
  }
 },
 "nbformat": 4,
 "nbformat_minor": 5
}
