{
 "cells": [
  {
   "cell_type": "markdown",
   "metadata": {},
   "source": [
    "# Appunti per comunicazione\n",
    "\n",
    "* `$V` versione\n",
    "* `$R0` set-point\n",
    "* `$R1` parametro P\n",
    "* `$R2` parametro I\n",
    "* `$R3` parametro D\n",
    "* `$W` RUN\n",
    "* `$Q` STOP"
   ]
  },
  {
   "cell_type": "code",
   "execution_count": 1,
   "metadata": {},
   "outputs": [
    {
     "name": "stdout",
     "output_type": "stream",
     "text": [
      "Device: COM7\n"
     ]
    }
   ],
   "source": [
    "# Codice per riconoscere che porta è\n",
    "\n",
    "from serial.tools import list_ports\n",
    "\n",
    "ports = list_ports.comports()\n",
    "\n",
    "for port in ports:\n",
    "    print(f\"Device: {port.device}\")"
   ]
  },
  {
   "cell_type": "code",
   "execution_count": 84,
   "metadata": {},
   "outputs": [
    {
     "name": "stdout",
     "output_type": "stream",
     "text": [
      "\n",
      "\n",
      "\n",
      "\n",
      "\n",
      "\n",
      "\n",
      "\n",
      "\n",
      "\n",
      "\n",
      "\n"
     ]
    }
   ],
   "source": [
    "import serial\n",
    "import time\n",
    "\n",
    "ser = serial.Serial()\n",
    "ser.port = \"COM8\"\n",
    "ser.baudrate = 115200\n",
    "ser.timeout = 1\n",
    "ser.rts = False\n",
    "ser.dtr = False\n",
    "ser.open()\n",
    "\n",
    "def query(message, flagR=True, flagW=True):\n",
    "    if flagW:    \n",
    "        message += '\\n'\n",
    "        ser.write(message.encode('utf-8'))\n",
    "    if flagR:\n",
    "        time.sleep(0.1)\n",
    "        res = ser.readline().decode('utf-8')\n",
    "        return res\n",
    "    \n",
    "\n",
    "for i in range(12):\n",
    "    response = ser.readline().decode('utf-8')\n",
    "    print(response[:-1])\n",
    "\n",
    "\n"
   ]
  },
  {
   "cell_type": "code",
   "execution_count": 100,
   "metadata": {},
   "outputs": [
    {
     "name": "stdout",
     "output_type": "stream",
     "text": [
      "Y=0\n"
     ]
    }
   ],
   "source": [
    "data = query(input('>> '))\n",
    "print(data[:-1])\n"
   ]
  },
  {
   "cell_type": "code",
   "execution_count": 27,
   "metadata": {},
   "outputs": [
    {
     "name": "stdout",
     "output_type": "stream",
     "text": [
      "--> X=0\n",
      "\n"
     ]
    }
   ],
   "source": [
    "print(\"--> \" + query('x?'))"
   ]
  },
  {
   "cell_type": "code",
   "execution_count": 15,
   "metadata": {},
   "outputs": [
    {
     "name": "stdout",
     "output_type": "stream",
     "text": [
      "69931\n",
      "\n"
     ]
    }
   ],
   "source": [
    "data = query('x?')\n",
    "print(data.split('=')[1])"
   ]
  },
  {
   "cell_type": "code",
   "execution_count": 101,
   "metadata": {},
   "outputs": [],
   "source": [
    "ser.close()\n"
   ]
  }
 ],
 "metadata": {
  "kernelspec": {
   "display_name": "Python 3",
   "language": "python",
   "name": "python3"
  },
  "language_info": {
   "codemirror_mode": {
    "name": "ipython",
    "version": 3
   },
   "file_extension": ".py",
   "mimetype": "text/x-python",
   "name": "python",
   "nbconvert_exporter": "python",
   "pygments_lexer": "ipython3",
   "version": "3.12.6"
  }
 },
 "nbformat": 4,
 "nbformat_minor": 2
}
