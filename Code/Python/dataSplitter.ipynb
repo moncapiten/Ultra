{
 "cells": [
  {
   "cell_type": "markdown",
   "metadata": {},
   "source": [
    "Necessary cause the dopplerShift data file are too big to be saved in github, and i got no idea how to set up GLFS( Git Large Files Storage)"
   ]
  },
  {
   "cell_type": "code",
   "execution_count": 10,
   "metadata": {},
   "outputs": [
    {
     "name": "stdout",
     "output_type": "stream",
     "text": [
      "Saved file: dopplerShift-0-80000_0.txt\n",
      "Saved file: dopplerShift-0-80000_1.txt\n",
      "Saved file: dopplerShift-0-80000_2.txt\n",
      "Saved file: dopplerShift-0-80000_3.txt\n",
      "Saved file: dopplerShift-0-80000_4.txt\n",
      "Saved file: dopplerShift-0-80000_5.txt\n",
      "Saved file: dopplerShift-0-80000_6.txt\n",
      "Saved file: dopplerShift-0-80000_7.txt\n",
      "Saved file: dopplerShift-0-80000_8.txt\n",
      "Saved file: dopplerShift-0-80000_9.txt\n",
      "Saved file: dopplerShift-0-80000_10.txt\n",
      "Saved file: dopplerShift-0-80000_11.txt\n",
      "Saved file: dopplerShift-0-80000_12.txt\n",
      "Saved file: dopplerShift-0-80000_13.txt\n",
      "Saved file: dopplerShift-0-80000_14.txt\n",
      "Saved file: dopplerShift-0-80000_15.txt\n",
      "Saved file: dopplerShift-0-80000_16.txt\n",
      "Saved file: dopplerShift-0-80000_17.txt\n",
      "Saved file: dopplerShift-0-80000_18.txt\n",
      "Saved file: dopplerShift-0-80000_19.txt\n"
     ]
    }
   ],
   "source": [
    "import numpy as np\n",
    "\n",
    "filename = 'dopplerShift-0-80000'\n",
    "dataPosition = '../../Data/doppler_20250513_123343/'\n",
    "rawdata = np.loadtxt(dataPosition+filename+'.txt', delimiter='\\t', dtype=float)\n",
    "\n",
    "\n",
    "maxAllowedLines = int( 5e5 )\n",
    "#maxFileLen = pointsPerPeriod * periodsAllowed\n",
    "piecesCounter = 0\n",
    "\n",
    "# data is saved in smaller files to avoid memory issues\n",
    "\n",
    "for i in range(0, len(rawdata), maxAllowedLines):\n",
    "#    print(rawdata[i:i+maxAllowedLines])\n",
    "#    if i > 3:\n",
    "#        break\n",
    "    np.savetxt(dataPosition+filename+'_'+str(piecesCounter)+'.txt', rawdata[i:i+maxAllowedLines])\n",
    "    print('Saved file: '+filename+'_'+str(piecesCounter)+'.txt')\n",
    "    piecesCounter += 1\n"
   ]
  },
  {
   "cell_type": "code",
   "execution_count": 14,
   "metadata": {},
   "outputs": [
    {
     "data": {
      "text/plain": [
       "2605056"
      ]
     },
     "execution_count": 14,
     "metadata": {},
     "output_type": "execute_result"
    }
   ],
   "source": [
    "len(rawdata)"
   ]
  }
 ],
 "metadata": {
  "kernelspec": {
   "display_name": "Python 3",
   "language": "python",
   "name": "python3"
  },
  "language_info": {
   "codemirror_mode": {
    "name": "ipython",
    "version": 3
   },
   "file_extension": ".py",
   "mimetype": "text/x-python",
   "name": "python",
   "nbconvert_exporter": "python",
   "pygments_lexer": "ipython3",
   "version": "3.12.6"
  }
 },
 "nbformat": 4,
 "nbformat_minor": 2
}
