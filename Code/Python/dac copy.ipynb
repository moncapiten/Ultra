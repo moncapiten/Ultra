{
 "cells": [
  {
   "cell_type": "markdown",
   "metadata": {},
   "source": [
    "# **DAC+ADC**\n",
    "\n",
    "Semplice script che funziona da oscilloscopio e controller del generatore di funzioni. L'oscilloscopio funziona a ciclo continuo e risponde a pochi comandi da tastiera:\n",
    "\n",
    "* Tasto `'x'` esporta l'ultima misura su file (nome del file da indicare su prompt della shell python)\n",
    "* Tasto `'space'` entra/esce da pausa nell'acquisizione\n",
    "* Tasto `'esc'` termina il programma"
   ]
  },
  {
   "cell_type": "code",
   "execution_count": 7,
   "metadata": {},
   "outputs": [
    {
     "name": "stdout",
     "output_type": "stream",
     "text": [
      "Dispositivo #1 [SN:210321ABE62D, hdwf=1] connesso!\n",
      "Configurazione #2\n",
      "Dispositivo disconnesso.\n"
     ]
    }
   ],
   "source": [
    "import tdwf\n",
    "import matplotlib\n",
    "matplotlib.use('TkAgg')\n",
    "import matplotlib.pyplot as plt \n",
    "import numpy as np\n",
    "\n",
    "# -[Configurazione Analog Discovery 2]-----------------------------------------\n",
    "#   1. Connessiene con AD2\n",
    "ad2 = tdwf.AD2(iconfig=2)\n",
    "\n",
    "\n",
    "#ad2 = tdwf.AD2()    \n",
    "\n",
    "# Set the power supply to +5V/-5V\n",
    "\n",
    "ad2.vdd = +5\n",
    "ad2.power(True) \n",
    "\n",
    "\n",
    "\n",
    "\n",
    "\n",
    "#   2. Configurazione generatore di funzioni\n",
    "wgen = tdwf.WaveGen(ad2.hdwf)\n",
    "wgen.w1.config(ampl = 5, func=tdwf.funcSine, freq = 4e4)\n",
    "wgen.w1.start()\n",
    "\n",
    "#   3. Configurazione oscilloscopio\n",
    "scope = tdwf.Scope(ad2.hdwf)\n",
    "scope.fs=5e7\n",
    "scope.npt=16384\n",
    "scope.ch1.rng = 50\n",
    "scope.ch2.rng = 50\n",
    "\n",
    "# -[Funzioni di gestione eventi]-----------------------------------------------\n",
    "def on_close(event):\n",
    "    global flag_run\n",
    "    flag_run = False\n",
    "def on_key(event):\n",
    "    global flag_run\n",
    "    global flag_acq\n",
    "    if event.key == 'x':  # => export su file\n",
    "        filename = input(\"Esporta dati su file: \")\n",
    "        data = np.column_stack((scope.time.vals, scope.ch1.vals, scope.ch2.vals))\n",
    "        if scope.npt > 8192:\n",
    "            info =  f\"Acquisizione Analog Discovery 2 - Lunga durata\\ntime\\tch1\\tch2\"\n",
    "        else:\n",
    "            info =  f\"Acquisizione Analog Discovery 2\\nTimestamp {scope.time.t0}\\ntime\\tch1\\tch2\"\n",
    "        np.savetxt(filename, data, delimiter='\\t', header=info)\n",
    "    if event.key == ' ':  # => run/pausa misura\n",
    "        flag_acq = not flag_acq\n",
    "    if event.key == 'escape':  # => esci dalla misura\n",
    "        flag_run = False\n",
    "\n",
    "# -[Ciclo di misura]-----------------------------------------------------------\n",
    "fig, ax = plt.subplots(figsize=(12,6))\n",
    "fig.canvas.mpl_connect(\"close_event\", on_close)\n",
    "fig.canvas.mpl_connect('key_press_event', on_key)\n",
    "flag_run = True\n",
    "flag_acq = True\n",
    "flag_first = True\n",
    "while flag_run:\n",
    "    if flag_acq: # l'acquisizione è attiva?\n",
    "        scope.sample()\n",
    "    # Visualizzazione\n",
    "    if flag_first:\n",
    "        flag_first = False\n",
    "        hp1, = plt.plot(scope.time.vals, scope.ch1.vals, \"-\", label=\"Trigger\", color=\"tab:orange\")\n",
    "        hp2, = plt.plot(scope.time.vals, scope.ch2.vals, \"-\", label=\"Echo\", color=\"tab:blue\")\n",
    "        plt.legend()\n",
    "        plt.grid(True)\n",
    "        plt.xlabel(\"Time [s]\", fontsize=15)\n",
    "        plt.ylabel(\"Signal [V]\", fontsize=15)\n",
    "        plt.title(\"User interaction: x|space|escape\")\n",
    "        plt.ylim(-1,6)\n",
    "        plt.tight_layout()\n",
    "        plt.show(block = False)\n",
    "    else:\n",
    "        hp1.set_ydata(scope.ch1.vals)\n",
    "        hp2.set_ydata(scope.ch2.vals)\n",
    "        fig.canvas.draw()\n",
    "        fig.canvas.flush_events()\n",
    "\n",
    "plt.close(fig)\n",
    "ad2.close()"
   ]
  },
  {
   "cell_type": "code",
   "execution_count": 3,
   "metadata": {},
   "outputs": [
    {
     "name": "stdout",
     "output_type": "stream",
     "text": [
      "Dispositivo disconnesso.\n"
     ]
    }
   ],
   "source": [
    "ad2.close()"
   ]
  }
 ],
 "metadata": {
  "kernelspec": {
   "display_name": "Python 3",
   "language": "python",
   "name": "python3"
  },
  "language_info": {
   "codemirror_mode": {
    "name": "ipython",
    "version": 3
   },
   "file_extension": ".py",
   "mimetype": "text/x-python",
   "name": "python",
   "nbconvert_exporter": "python",
   "pygments_lexer": "ipython3",
   "version": "3.12.6"
  }
 },
 "nbformat": 4,
 "nbformat_minor": 2
}
