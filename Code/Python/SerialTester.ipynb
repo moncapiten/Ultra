{
 "cells": [
  {
   "cell_type": "markdown",
   "metadata": {},
   "source": [
    "# Appunti per comunicazione\n",
    "\n"
   ]
  },
  {
   "cell_type": "code",
   "execution_count": 2,
   "metadata": {},
   "outputs": [
    {
     "name": "stdout",
     "output_type": "stream",
     "text": [
      "\n",
      "\n",
      "\n",
      "\n",
      "\n",
      "\n",
      "\n",
      "\n",
      "\n",
      "\n",
      "\n",
      "Risposta ricevuta: TX=40000\n"
     ]
    }
   ],
   "source": [
    "import serial\n",
    "import time\n",
    "\n",
    "ser = serial.Serial()\n",
    "ser.port = \"COM8\"\n",
    "ser.baudrate = 115200   \n",
    "ser.timeout = 1\n",
    "ser.rts = False\n",
    "ser.dtr = False\n",
    "ser.open()\n",
    "#ser = serial.Serial('COM11', 115200, timeout=1, dsrdtr = False)\n",
    "#time.sleep(2)  # Attendi che la connessione si stabilisca (utile per dispositivi come Arduino)\n",
    "for i in range(11):\n",
    "    response = ser.readline().decode('utf-8')\n",
    "    print(response[:-1])\n",
    "\n",
    "# Manda il comando\n",
    "ser.write(b'TX 40000.0\\n')  # Usa '\\n' se il dispositivo si aspetta newline. Modifica se serve '\\r' o '\\r\\n' # 1 step = 2 micron\n",
    "# velocità di default = 4000 microstep al secondo\n",
    "\n",
    "# Attendi e leggi la risposta\n",
    "response = ser.readline().decode('utf-8').strip()\n",
    "print(f\"Risposta ricevuta: {response}\")\n",
    "\n",
    "# Chiudi la porta seriale\n",
    "input()\n",
    "ser.close()\n"
   ]
  },
  {
   "cell_type": "code",
   "execution_count": 3,
   "metadata": {},
   "outputs": [
    {
     "name": "stdout",
     "output_type": "stream",
     "text": [
      "Device: COM7\n"
     ]
    }
   ],
   "source": [
    "# Codice per riconoscere che porta è\n",
    "\n",
    "from serial.tools import list_ports\n",
    "\n",
    "ports = list_ports.comports()\n",
    "\n",
    "for port in ports:\n",
    "    print(f\"Device: {port.device}\")"
   ]
  },
  {
   "cell_type": "code",
   "execution_count": 1,
   "metadata": {},
   "outputs": [
    {
     "name": "stdout",
     "output_type": "stream",
     "text": [
      "\n",
      "\n",
      "\n",
      "\n",
      "\n",
      "\n",
      "\n",
      "\n",
      "\n",
      "\n",
      "\n",
      "Risposta ricevuta: TX=40000\n"
     ]
    }
   ],
   "source": [
    "import serial\n",
    "import time\n",
    "\n",
    "ser = serial.Serial()\n",
    "ser.port = \"COM8\"\n",
    "ser.baudrate = 115200   \n",
    "ser.timeout = 1 # timeout = 0 fa proseguire il programma, timeout = 1 fa andare avanti il programma dopo che ha finito di spostare\n",
    "ser.rts = False\n",
    "ser.dtr = False\n",
    "ser.open()\n",
    "#ser = serial.Serial('COM11', 115200, timeout=1, dsrdtr = False)\n",
    "#time.sleep(2)  # Attendi che la connessione si stabilisca (utile per dispositivi come Arduino)\n",
    "for i in range(11):\n",
    "    response = ser.readline().decode('utf-8')\n",
    "    print(response[:-1])\n",
    "\n",
    "# Manda il comando\n",
    "# ser.write(b'X 0\\n') # setta lo zero alla posizione attuale\n",
    "# ser.write(b'X?\\n') # richiesta posizione\n",
    "ser.write(b'TX 40000\\n') # TX = target ([0, 80000]), DX = spostamento\n",
    "ser.write(b'SX 5000.0\\n') # setta la velocità. Velocità di default = 4000 microstep al secondo\n",
    "# ser.write(b'SX?\\n') # non funziona\n",
    "\n",
    "# Attendi e leggi la risposta # di solito sono scommentate, ma non so se servono\n",
    "response = ser.readline().decode('utf-8').strip()\n",
    "print(f\"Risposta ricevuta: {response}\")\n",
    "\n",
    "# Chiudi la porta seriale\n",
    "input()\n",
    "ser.close()"
   ]
  }
 ],
 "metadata": {
  "kernelspec": {
   "display_name": "Python 3",
   "language": "python",
   "name": "python3"
  },
  "language_info": {
   "codemirror_mode": {
    "name": "ipython",
    "version": 3
   },
   "file_extension": ".py",
   "mimetype": "text/x-python",
   "name": "python",
   "nbconvert_exporter": "python",
   "pygments_lexer": "ipython3",
   "version": "3.12.6"
  }
 },
 "nbformat": 4,
 "nbformat_minor": 2
}
