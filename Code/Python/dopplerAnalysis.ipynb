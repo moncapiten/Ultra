{
 "cells": [
  {
   "cell_type": "code",
   "execution_count": 1,
   "id": "f0877f90",
   "metadata": {},
   "outputs": [],
   "source": [
    "import numpy as np\n",
    "import matplotlib\n",
    "matplotlib.use('TKAgg')  # Use a non-interactive backend for matplotlib\n",
    "import matplotlib.pyplot as plt\n",
    "\n",
    "from scipy.optimize import curve_fit\n",
    "\n",
    "path = '../../Data/doppler_20250509_102751/'\n",
    "filename = 'dopplerShift-0-80000.txt'\n",
    "tt, tx, rx = np.loadtxt(path+filename, unpack=True)\n",
    "\n",
    "\n"
   ]
  },
  {
   "cell_type": "code",
   "execution_count": 7,
   "id": "982e5458",
   "metadata": {},
   "outputs": [
    {
     "name": "stdout",
     "output_type": "stream",
     "text": [
      "2605056\n",
      "2605056\n",
      "2605056\n"
     ]
    }
   ],
   "source": [
    "print(len(tt))\n",
    "print(len(tx))\n",
    "print(len(rx))"
   ]
  },
  {
   "cell_type": "code",
   "execution_count": 77,
   "id": "ebdd059f",
   "metadata": {},
   "outputs": [
    {
     "name": "stdout",
     "output_type": "stream",
     "text": [
      "1.2577853442633648e-08\n",
      "1.9998786973787574e-06\n"
     ]
    }
   ],
   "source": [
    "newtt = []\n",
    "\n",
    "shift = 0\n",
    "for i in range(len(tt)):\n",
    "#    if(i > 600000):\n",
    "#        break\n",
    "\n",
    "    newtt.append( ( tt[i] ) + shift )\n",
    "\n",
    "    if( i != len(tt)-1 and tt[i] > 0 and tt[i+1] < 0):\n",
    "        shift = newtt[-1] - tt[i+1]\n",
    "\n",
    "\n",
    "print(np.mean(np.diff(tt)))\n",
    "print(np.mean(np.diff(newtt)))\n",
    "\n"
   ]
  },
  {
   "cell_type": "code",
   "execution_count": 78,
   "id": "0881c4bd",
   "metadata": {},
   "outputs": [],
   "source": [
    "len(tt)/len(newtt)\n",
    "\n",
    "plt.plot(np.linspace(0, len(newtt), len(newtt)), newtt, 'r.')\n",
    "plt.plot(np.linspace(0, len(newtt), len(newtt)), tt[0:len(newtt)], 'b.')\n",
    "plt.show()"
   ]
  },
  {
   "cell_type": "code",
   "execution_count": null,
   "id": "971f584f",
   "metadata": {},
   "outputs": [
    {
     "ename": "",
     "evalue": "",
     "output_type": "error",
     "traceback": [
      "\u001b[1;31mThe Kernel crashed while executing code in the current cell or a previous cell. \n",
      "\u001b[1;31mPlease review the code in the cell(s) to identify a possible cause of the failure. \n",
      "\u001b[1;31mClick <a href='https://aka.ms/vscodeJupyterKernelCrash'>here</a> for more info. \n",
      "\u001b[1;31mView Jupyter <a href='command:jupyter.viewOutput'>log</a> for further details."
     ]
    }
   ],
   "source": [
    "# fourier transform\n",
    "freqs = np.fft.rfftfreq(len(tt), np.mean(np.diff(tt)))\n",
    "np.fft.rfft(tx)\n",
    "np.fft.rfft(rx)\n",
    "\n",
    "# plot the data\n",
    "plt.figure(figsize=(10, 5))\n",
    "plt.plot(freqs, np.abs(np.fft.rfft(tx)), label='tx')\n",
    "plt.plot(freqs, np.abs(np.fft.rfft(rx)), label='rx')\n",
    "plt.show()"
   ]
  },
  {
   "cell_type": "code",
   "execution_count": 4,
   "id": "0dcaab0b",
   "metadata": {},
   "outputs": [],
   "source": [
    "sim = np.linspace(0, 20, len(tt))\n",
    "\n",
    "\n",
    "plt.hist(tt, bins=10000)\n",
    "plt.hist(sim, bins=10000, alpha=0.5, label='simulated')\n",
    "plt.show()\n",
    "\n",
    "\n"
   ]
  }
 ],
 "metadata": {
  "kernelspec": {
   "display_name": "Python 3",
   "language": "python",
   "name": "python3"
  },
  "language_info": {
   "codemirror_mode": {
    "name": "ipython",
    "version": 3
   },
   "file_extension": ".py",
   "mimetype": "text/x-python",
   "name": "python",
   "nbconvert_exporter": "python",
   "pygments_lexer": "ipython3",
   "version": "3.12.6"
  }
 },
 "nbformat": 4,
 "nbformat_minor": 5
}
