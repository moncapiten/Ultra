{
 "cells": [
  {
   "cell_type": "code",
   "execution_count": 2,
   "id": "4fb54ae0",
   "metadata": {},
   "outputs": [
    {
     "name": "stdout",
     "output_type": "stream",
     "text": [
      "\n",
      "\n",
      "\n",
      "\n",
      "\n",
      "\n",
      "\n",
      "\n",
      "\n",
      "\n",
      "\n",
      "\n",
      "Dispositivo #1 [SN:210321B1F3F8, hdwf=1] connesso!\n",
      "Configurazione #2\n",
      "Data will be saved in ../../Data\\doppler_20250515_112320\n",
      "\n"
     ]
    }
   ],
   "source": [
    "import numpy as np\n",
    "import matplotlib\n",
    "matplotlib.use('TkAgg')\n",
    "import matplotlib.pyplot as plt\n",
    "import serial\n",
    "import tdwf\n",
    "import time\n",
    "import os\n",
    "\n",
    "#-[Configurazione seriale]-----------------------------------------------------\n",
    "ser = serial.Serial()\n",
    "ser.port = \"COM8\"\n",
    "ser.baudrate = 115200\n",
    "ser.timeout = 1\n",
    "ser.rts = False\n",
    "ser.dtr = False\n",
    "ser.open()\n",
    "\n",
    "def query(message, flagR=True, flagW=True):\n",
    "    if flagW:    \n",
    "        message += '\\n'\n",
    "        ser.write(message.encode('utf-8'))\n",
    "    if flagR:\n",
    "        res = ser.readline().decode('utf-8')\n",
    "        return res\n",
    "\n",
    "\n",
    "for i in range(12):\n",
    "    response = ser.readline().decode('utf-8')\n",
    "    print(response[:-1])\n",
    "\n",
    "\n",
    "#-[Configurazione AD2]-------------------------------------------------------\n",
    "ad2 = tdwf.AD2(iconfig=2)\n",
    "\n",
    "ad2.vdd = +5\n",
    "ad2.power(True)\n",
    "\n",
    "#   2. Configurazione generatore di funzioni\n",
    "wgen = tdwf.WaveGen(ad2.hdwf)\n",
    "wgen.w1.config(ampl = 5, offs= 0, func=tdwf.funcSine, freq = 40968)\n",
    "wgen.w1.start()\n",
    "\n",
    "#   3. Configurazione oscilloscopio\n",
    "scope = tdwf.Scope(ad2.hdwf)\n",
    "scope.fs=5e5\n",
    "scope.npt=int(10e6)\n",
    "scope.ch1.rng = 10\n",
    "scope.ch2.rng = 10\n",
    "scope.trig(True, level = 1, sour = tdwf.trigsrcCh1, delay = 0.04)\n",
    "\n",
    "\n",
    "#-[Saving pipeline]-----------------------------------------------------\n",
    "Directory = f\"doppler_{time.strftime('%Y%m%d_%H%M%S')}\" # directory name based on the current date and time\n",
    "parent_dir = \"../../Data\"\n",
    "path = os.path.join(parent_dir, Directory) # creating the directory\n",
    "os.mkdir(path)\n",
    "print(f\"Data will be saved in {path}\\n\")\n",
    "log_file = os.path.join(path, f\"log.txt\")   #creating the log file\n",
    "message = input(\"Please insert a \\bMEANINGFUL\\b comment to understand what the measurement in about: \")\n",
    "with open(path+\"/log.txt\", \"a\") as log:\n",
    "    log.write(time.strftime('%H%M%S') + ' >>> ' + message + \"\\n\")\n",
    "    log.close()\n",
    "\n"
   ]
  },
  {
   "cell_type": "markdown",
   "id": "e9254ccb",
   "metadata": {},
   "source": [
    "## MEASUREMENT ON THE RUN"
   ]
  },
  {
   "cell_type": "code",
   "execution_count": null,
   "id": "e9c4295f",
   "metadata": {},
   "outputs": [
    {
     "name": "stdout",
     "output_type": "stream",
     "text": [
      "TX=80000\n",
      "80000\n",
      "TX=0\n"
     ]
    }
   ],
   "source": [
    "\n",
    "rangeX = [0, 80000]\n",
    "\n",
    "tt, tx, rx = [], [], []\n",
    "\n",
    "\n",
    "\n",
    "\n",
    "\n",
    "res = query(\"tx=\"+str(rangeX[1]))\n",
    "print(res[:-1])\n",
    "\n",
    "posX = int(query(\"x?\").split('=')[1])\n",
    "first = True\n",
    "time.sleep(.5)\n",
    "\n",
    "scope.sample()\n",
    "while(posX < 0.98 * rangeX[1]):\n",
    "    posX = int(query(\"x?\").split('=')[1])\n",
    "    print(posX)\n",
    "\n",
    "\n",
    "\n",
    "\n",
    "tt = tt + scope.time.vals.tolist()\n",
    "tx = tx + scope.ch1.vals.tolist()\n",
    "rx = rx + scope.ch2.vals.tolist()\n",
    "res = query(\"tx=\" + str(rangeX[0]))\n",
    "print(res[:-1])\n",
    "\n",
    "info = f\"Doppler Shift measurement - X = {rangeX[0]:5.0f} -> {rangeX[1]:5.0f} - vX = {query(\"sx?\").split('=')[1] } \\n\"\n",
    "\n",
    "data_to_save = np.c_[tt, tx, rx]\n",
    "info = info + f\"time [s]\\tch1 [V]\\tch2 [V]\\n\"\n",
    "\n",
    "\n",
    "filename = f\"dopplerShift-{rangeX[0]:.0f}-{rangeX[1]:.0f}\"\n",
    "\n",
    "np.savetxt(path+'/'+filename+\".txt\", data_to_save, delimiter=\"\\t\", header=info, fmt=\"%s\")\n",
    "\n"
   ]
  },
  {
   "cell_type": "markdown",
   "id": "fedbe704",
   "metadata": {},
   "source": [
    "## AT A STANDSTILL"
   ]
  },
  {
   "cell_type": "code",
   "execution_count": 56,
   "id": "c3b089ce",
   "metadata": {},
   "outputs": [],
   "source": [
    "rangeX = [0, 0]\n",
    "\n",
    "tt, tx, rx = [], [], []\n",
    "\n",
    "\n",
    "\n",
    "#startingTime = time.time()\n",
    "#while(time.time() < 19 + startingTime):\n",
    "time.sleep(19)\n",
    "#    tt.append(scope.time.vals.tolist())\n",
    "#    tx.append(scope.ch1.vals.tolist())\n",
    "#    rx.append(scope.ch2.vals.tolist())\n",
    "scope.sample()\n",
    "tt = scope.time.vals.tolist()\n",
    "tx = scope.ch1.vals.tolist()\n",
    "rx = scope.ch2.vals.tolist()\n",
    "\n",
    "info = f\"Doppler Shift measurement - X = {rangeX[0]:5.0f} -> {rangeX[1]:5.0f} - vX = {query(\"sx?\").split('=')[1] } \\n\"\n",
    "\n",
    "data_to_save = np.c_[tt, tx, rx]\n",
    "info = info + f\"time [s]\\tch1 [V]\\tch2 [V]\\n\"\n",
    "\n",
    "\n",
    "filename = f\"dopplerShift-{rangeX[0]:.0f}-{rangeX[1]:.0f}\"\n",
    "\n",
    "np.savetxt(path+'/'+filename+\".txt\", data_to_save, delimiter=\"\\t\", header=info, fmt=\"%s\")\n",
    "\n"
   ]
  },
  {
   "cell_type": "code",
   "execution_count": 70,
   "id": "12ca6084",
   "metadata": {},
   "outputs": [
    {
     "name": "stdout",
     "output_type": "stream",
     "text": [
      "TX=0\n"
     ]
    }
   ],
   "source": [
    "res = query(input('>> '))\n",
    "print(res[:-1])"
   ]
  },
  {
   "cell_type": "code",
   "execution_count": 48,
   "id": "5961581b",
   "metadata": {},
   "outputs": [
    {
     "data": {
      "text/plain": [
       "10000000"
      ]
     },
     "execution_count": 48,
     "metadata": {},
     "output_type": "execute_result"
    }
   ],
   "source": [
    "len(tt)"
   ]
  },
  {
   "cell_type": "code",
   "execution_count": 75,
   "id": "1c0c8789",
   "metadata": {},
   "outputs": [],
   "source": [
    "import matplotlib.pyplot as plt\n",
    "\n",
    "\n",
    "plt.plot(tt[0: 100], tx[0:100], 'r', label='tx')\n",
    "plt.plot(tt[0: 100], rx[0: 100], 'b', label='rx')\n",
    "plt.show()"
   ]
  },
  {
   "cell_type": "code",
   "execution_count": 37,
   "id": "dc5b8646",
   "metadata": {},
   "outputs": [
    {
     "data": {
      "text/plain": [
       "np.float64(1.2577853442633648e-08)"
      ]
     },
     "execution_count": 37,
     "metadata": {},
     "output_type": "execute_result"
    }
   ],
   "source": [
    "np.mean(np.diff(tt))"
   ]
  },
  {
   "cell_type": "code",
   "execution_count": 3,
   "id": "ee5d5acb",
   "metadata": {},
   "outputs": [],
   "source": [
    "ser.close()"
   ]
  },
  {
   "cell_type": "code",
   "execution_count": 4,
   "id": "427774f4",
   "metadata": {},
   "outputs": [
    {
     "name": "stdout",
     "output_type": "stream",
     "text": [
      "Dispositivo disconnesso.\n"
     ]
    }
   ],
   "source": [
    "ad2.close()"
   ]
  }
 ],
 "metadata": {
  "kernelspec": {
   "display_name": "Python 3",
   "language": "python",
   "name": "python3"
  },
  "language_info": {
   "codemirror_mode": {
    "name": "ipython",
    "version": 3
   },
   "file_extension": ".py",
   "mimetype": "text/x-python",
   "name": "python",
   "nbconvert_exporter": "python",
   "pygments_lexer": "ipython3",
   "version": "3.12.6"
  }
 },
 "nbformat": 4,
 "nbformat_minor": 5
}
