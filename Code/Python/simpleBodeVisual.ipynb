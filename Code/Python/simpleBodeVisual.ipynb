{
 "cells": [
  {
   "cell_type": "code",
   "execution_count": 2,
   "id": "d2617cda",
   "metadata": {},
   "outputs": [],
   "source": [
    "import matplotlib\n",
    "matplotlib.use('TKAgg')  # Use a non-interactive backend\n",
    "import matplotlib.pyplot as plt\n",
    "import numpy as np\n",
    "\n",
    "rawdata = np.loadtxt('../../Data/Bode3.txt')\n",
    "\n",
    "tt, AA = rawdata[:, 0], rawdata[:, 1]\n",
    "\n",
    "\n",
    "plt.plot(tt, AA, 'r', label='Amplitude')\n",
    "plt.xscale('log')\n",
    "plt.grid(which='both', axis='both', linestyle='-.')\n",
    "plt.show()"
   ]
  }
 ],
 "metadata": {
  "kernelspec": {
   "display_name": "Python 3",
   "language": "python",
   "name": "python3"
  },
  "language_info": {
   "codemirror_mode": {
    "name": "ipython",
    "version": 3
   },
   "file_extension": ".py",
   "mimetype": "text/x-python",
   "name": "python",
   "nbconvert_exporter": "python",
   "pygments_lexer": "ipython3",
   "version": "3.12.6"
  }
 },
 "nbformat": 4,
 "nbformat_minor": 5
}
