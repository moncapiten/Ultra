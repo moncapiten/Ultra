{
 "cells": [
  {
   "cell_type": "markdown",
   "metadata": {},
   "source": [
    "# Appunti per comunicazione\n",
    "\n",
    "* `$V` versione\n",
    "* `$R0` set-point\n",
    "* `$R1` parametro P\n",
    "* `$R2` parametro I\n",
    "* `$R3` parametro D\n",
    "* `$W` RUN\n",
    "* `$Q` STOP"
   ]
  },
  {
   "cell_type": "code",
   "execution_count": null,
   "metadata": {},
   "outputs": [],
   "source": [
    "# Codice per riconoscere che porta è\n",
    "\n",
    "from serial.tools import list_ports\n",
    "\n",
    "ports = list_ports.comports()\n",
    "\n",
    "for port in ports:\n",
    "    print(f\"Device: {port.device}\")"
   ]
  },
  {
   "cell_type": "code",
   "execution_count": null,
   "metadata": {},
   "outputs": [
    {
     "name": "stdout",
     "output_type": "stream",
     "text": [
      "\n",
      "\n",
      "JoyStepper: XYZ stepper motor controller with joystick\n",
      "======================================================\n",
      " Interrupt frequency (real):  25000 Hz\n",
      " Interrupt frequency (ideal): 25000 Hz\n",
      " Update frequency (real):     1000 Hz\n",
      " Update frequency (ideal):    1000 Hz\n",
      "------------------------------------------------------\n",
      "Speed X 4000 msps\n",
      "Speed Y 4000 msps\n"
     ]
    }
   ],
   "source": [
    "import serial\n",
    "import time\n",
    "\n",
    "ser = serial.Serial()\n",
    "ser.port = \"COM7\"\n",
    "ser.baudrate = 115200\n",
    "ser.timeout = 1\n",
    "ser.rts = False\n",
    "ser.dtr = False\n",
    "ser.open()\n",
    "\n",
    "def query(message, flagR=True, flagW=True):\n",
    "    if flagW:    \n",
    "        message += '\\n'\n",
    "        ser.write(message.encode('utf-8'))\n",
    "    if flagR:\n",
    "        time.sleep(0.1)\n",
    "        res = ser.readline().decode('utf-8')\n",
    "        return res\n",
    "    \n",
    "\n",
    "for i in range(12):\n",
    "    response = ser.readline().decode('utf-8')\n",
    "    print(response[:-1])\n",
    "\n",
    "#query('TX 40000.0', flagR=False, flagW=True)\n",
    "#for i in range(30):\n",
    "#    print( query('', flagR=True, flagW=False) )\n",
    "\n",
    "\n",
    "\n",
    "time.sleep(1)\n",
    "\n"
   ]
  },
  {
   "cell_type": "code",
   "execution_count": 25,
   "metadata": {},
   "outputs": [
    {
     "name": "stdout",
     "output_type": "stream",
     "text": [
      "SERVO ON\n"
     ]
    }
   ],
   "source": [
    "data = query(input('>> '), flagR=True, flagW=True)\n",
    "print(data[:-1])"
   ]
  },
  {
   "cell_type": "code",
   "execution_count": 27,
   "metadata": {},
   "outputs": [
    {
     "name": "stdout",
     "output_type": "stream",
     "text": [
      "--> X=0\n",
      "\n"
     ]
    }
   ],
   "source": [
    "print(\"--> \" + query('x?'))"
   ]
  },
  {
   "cell_type": "code",
   "execution_count": 15,
   "metadata": {},
   "outputs": [
    {
     "name": "stdout",
     "output_type": "stream",
     "text": [
      "69931\n",
      "\n"
     ]
    }
   ],
   "source": [
    "data = query('x?')\n",
    "print(data.split('=')[1])"
   ]
  },
  {
   "cell_type": "code",
   "execution_count": 28,
   "metadata": {},
   "outputs": [],
   "source": [
    "ser.close()\n"
   ]
  }
 ],
 "metadata": {
  "kernelspec": {
   "display_name": "Python 3",
   "language": "python",
   "name": "python3"
  },
  "language_info": {
   "codemirror_mode": {
    "name": "ipython",
    "version": 3
   },
   "file_extension": ".py",
   "mimetype": "text/x-python",
   "name": "python",
   "nbconvert_exporter": "python",
   "pygments_lexer": "ipython3",
   "version": "3.12.6"
  }
 },
 "nbformat": 4,
 "nbformat_minor": 2
}
