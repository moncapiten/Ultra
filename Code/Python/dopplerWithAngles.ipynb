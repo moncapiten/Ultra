{
 "cells": [
  {
   "cell_type": "code",
   "execution_count": 46,
   "id": "4fb54ae0",
   "metadata": {},
   "outputs": [
    {
     "name": "stdout",
     "output_type": "stream",
     "text": [
      "\n",
      "\n",
      "\n",
      "\n",
      "\n",
      "\n",
      "\n",
      "\n",
      "\n",
      "\n",
      "\n",
      "\n",
      "Dispositivo #1 [SN:210321B1F3F8, hdwf=1] connesso!\n",
      "Configurazione #2\n",
      "Data will be saved in ../../Data\\dopplerWithAngle_20250515_112543\n",
      "\n"
     ]
    }
   ],
   "source": [
    "import numpy as np\n",
    "import matplotlib\n",
    "matplotlib.use('TkAgg')\n",
    "import matplotlib.pyplot as plt\n",
    "import serial\n",
    "import tdwf\n",
    "import time\n",
    "import os\n",
    "\n",
    "#-[Configurazione seriale]-----------------------------------------------------\n",
    "ser = serial.Serial()\n",
    "ser.port = \"COM8\"\n",
    "ser.baudrate = 115200\n",
    "ser.timeout = 1\n",
    "ser.rts = False\n",
    "ser.dtr = False\n",
    "ser.open()\n",
    "\n",
    "def query(message, flagR=True, flagW=True):\n",
    "    if flagW:    \n",
    "        message += '\\n'\n",
    "        ser.write(message.encode('utf-8'))\n",
    "    if flagR:\n",
    "        res = ser.readline().decode('utf-8')\n",
    "        return res\n",
    "\n",
    "\n",
    "for i in range(12):\n",
    "    response = ser.readline().decode('utf-8')\n",
    "    print(response[:-1])\n",
    "\n",
    "\n",
    "#-[Configurazione AD2]-------------------------------------------------------\n",
    "ad2 = tdwf.AD2(iconfig=2)\n",
    "\n",
    "ad2.vdd = +5\n",
    "ad2.power(True)\n",
    "\n",
    "#   2. Configurazione generatore di funzioni\n",
    "wgen = tdwf.WaveGen(ad2.hdwf)\n",
    "wgen.w1.config(ampl = 5, offs= 0, func=tdwf.funcSine, freq = 40968)\n",
    "wgen.w1.start()\n",
    "\n",
    "#   3. Configurazione oscilloscopio\n",
    "scope = tdwf.Scope(ad2.hdwf)\n",
    "scope.fs=5e5\n",
    "scope.npt=int(10e6)\n",
    "scope.ch1.rng = 10\n",
    "scope.ch2.rng = 10\n",
    "scope.trig(True, level = 1, sour = tdwf.trigsrcCh1, delay = 0.04)\n",
    "\n",
    "\n",
    "#-[Saving pipeline]-----------------------------------------------------\n",
    "Directory = f\"dopplerWithAngle_{time.strftime('%Y%m%d_%H%M%S')}\" # directory name based on the current date and time\n",
    "parent_dir = \"../../Data\"\n",
    "path = os.path.join(parent_dir, Directory) # creating the directory\n",
    "os.mkdir(path)\n",
    "print(f\"Data will be saved in {path}\\n\")\n",
    "log_file = os.path.join(path, f\"log.txt\")   #creating the log file\n",
    "message = input(\"Please insert a \\bMEANINGFUL\\b comment to understand what the measurement in about: \")\n",
    "with open(path+\"/log.txt\", \"a\") as log:\n",
    "    log.write(time.strftime('%H%M%S') + ' >>> ' + message + \"\\n\")\n",
    "    log.close()\n",
    "\n"
   ]
  },
  {
   "cell_type": "code",
   "execution_count": 70,
   "id": "b39f87b9",
   "metadata": {},
   "outputs": [
    {
     "name": "stdout",
     "output_type": "stream",
     "text": [
      "Dispositivo #1 [SN:210321B1F3F8, hdwf=1] connesso!\n",
      "Configurazione #2\n"
     ]
    }
   ],
   "source": [
    "#-[Configurazione AD2]-------------------------------------------------------\n",
    "ad2 = tdwf.AD2(iconfig=2)\n",
    "\n",
    "ad2.vdd = +5\n",
    "ad2.power(True)\n",
    "\n",
    "#   2. Configurazione generatore di funzioni\n",
    "wgen = tdwf.WaveGen(ad2.hdwf)\n",
    "wgen.w1.config(ampl = 5, offs= 0, func=tdwf.funcSine, freq = 40968)\n",
    "wgen.w1.start()\n",
    "\n",
    "#   3. Configurazione oscilloscopio\n",
    "scope = tdwf.Scope(ad2.hdwf)\n",
    "scope.fs=5e5\n",
    "scope.npt=int(10e6)\n",
    "scope.ch1.rng = 10\n",
    "scope.ch2.rng = 10\n",
    "scope.trig(True, level = 1, sour = tdwf.trigsrcCh1, delay = 0.04)"
   ]
  },
  {
   "cell_type": "code",
   "execution_count": 47,
   "id": "fc2a3e28",
   "metadata": {},
   "outputs": [
    {
     "name": "stdout",
     "output_type": "stream",
     "text": [
      "[  0  66 133 200]\n"
     ]
    }
   ],
   "source": [
    "\n",
    "\n",
    "def setAngle(angle):\n",
    "    print( query(\"ty=\"+str(angle))[:-1] )\n",
    "    res = int(query(\"y?\").split('=')[1])\n",
    "    while res != angle:\n",
    "        res = int(query(\"y?\").split('=')[1])\n",
    "    return res\n",
    "\n",
    "def setX(x):\n",
    "    print( query(\"tx=\"+str(x))[:-1] )\n",
    "    res = int(query(\"x?\").split('=')[1])\n",
    "    while res != x:\n",
    "        res = int(query(\"x?\").split('=')[1])\n",
    "    return res\n",
    "\n",
    "\n",
    "\n",
    "\n",
    "\n",
    "\n",
    "\n",
    "\n",
    "\n",
    "\n",
    "\n",
    "\n",
    "\n",
    "\n",
    "\n",
    "\n",
    "rangeX = [0, 80000]\n",
    "rangeY = [0, 200]\n",
    "\n",
    "\n",
    "\n",
    "#translations = np.linspace(rangeX[0], rangeX[1], 11, dtype=int)\n",
    "angules = np.linspace(rangeY[0], rangeY[1], 4, dtype=int)\n",
    "\n",
    "angules = np.delete(angules, np.where(angules == -400))\n",
    "angules = np.delete(angules, np.where(angules == 400))\n",
    "print(angules)\n",
    "\n",
    "agulIndex = 0"
   ]
  },
  {
   "cell_type": "markdown",
   "id": "e9254ccb",
   "metadata": {},
   "source": [
    "## MEASUREMENT ON THE RUN"
   ]
  },
  {
   "cell_type": "code",
   "execution_count": 71,
   "id": "e9c4295f",
   "metadata": {},
   "outputs": [
    {
     "name": "stdout",
     "output_type": "stream",
     "text": [
      "TX=0\n",
      "TY=200\n",
      "TX=80000\n",
      "80000\n",
      "TX=0\n"
     ]
    }
   ],
   "source": [
    "tt, tx, rx = [], [], []\n",
    "\n",
    "\n",
    "\n",
    "setX(0)\n",
    "setAngle(angules[agulIndex])\n",
    "\n",
    "\n",
    "posX = int(query(\"x?\").split('=')[1])\n",
    "first = True\n",
    "time.sleep(.5)\n",
    "\n",
    "res = query(\"tx=\" + str(rangeX[1]))\n",
    "print(res[:-1])\n",
    "time.sleep(.5)\n",
    "scope.sample()\n",
    "while(posX < 0.98 * rangeX[1]):\n",
    "    posX = int(query(\"x?\").split('=')[1])\n",
    "    print(posX)\n",
    "\n",
    "\n",
    "\n",
    "tt = tt + scope.time.vals.tolist()\n",
    "tx = tx + scope.ch1.vals.tolist()\n",
    "rx = rx + scope.ch2.vals.tolist()\n",
    "res = query(\"tx=\" + str(rangeX[0]))\n",
    "print(res[:-1])\n",
    "\n",
    "info = f\"Doppler Shift measurement - X = {rangeX[0]:5.0f} -> {rangeX[1]:5.0f} - vX = {query(\"sx?\").split('=')[1] } - Y = {angules[agulIndex]} \\n\"\n",
    "\n",
    "data_to_save = np.c_[tt, tx, rx]\n",
    "info = info + f\"time [s]\\tch1 [V]\\tch2 [V]\\n\"\n",
    "\n",
    "\n",
    "filename = f\"dopplerShift_{angules[agulIndex]}-{rangeX[0]:.0f}-{rangeX[1]:.0f}\"\n",
    "\n",
    "np.savetxt(path+'/'+filename+\".txt\", data_to_save, delimiter=\"\\t\", header=info, fmt=\"%s\")\n",
    "\n",
    "agulIndex += 1\n",
    "\n"
   ]
  },
  {
   "cell_type": "code",
   "execution_count": 33,
   "id": "12ca6084",
   "metadata": {},
   "outputs": [
    {
     "name": "stdout",
     "output_type": "stream",
     "text": [
      "TY=0\n"
     ]
    }
   ],
   "source": [
    "res = query(input('>> '))\n",
    "print(res[:-1])"
   ]
  },
  {
   "cell_type": "code",
   "execution_count": 68,
   "id": "5961581b",
   "metadata": {},
   "outputs": [
    {
     "data": {
      "text/plain": [
       "3"
      ]
     },
     "execution_count": 68,
     "metadata": {},
     "output_type": "execute_result"
    }
   ],
   "source": [
    "agulIndex"
   ]
  },
  {
   "cell_type": "code",
   "execution_count": 75,
   "id": "1c0c8789",
   "metadata": {},
   "outputs": [],
   "source": [
    "import matplotlib.pyplot as plt\n",
    "\n",
    "\n",
    "plt.plot(tt[0: 100], tx[0:100], 'r', label='tx')\n",
    "plt.plot(tt[0: 100], rx[0: 100], 'b', label='rx')\n",
    "plt.show()"
   ]
  },
  {
   "cell_type": "code",
   "execution_count": 37,
   "id": "dc5b8646",
   "metadata": {},
   "outputs": [
    {
     "data": {
      "text/plain": [
       "np.float64(1.2577853442633648e-08)"
      ]
     },
     "execution_count": 37,
     "metadata": {},
     "output_type": "execute_result"
    }
   ],
   "source": [
    "np.mean(np.diff(tt))"
   ]
  },
  {
   "cell_type": "code",
   "execution_count": 44,
   "id": "ee5d5acb",
   "metadata": {},
   "outputs": [],
   "source": [
    "ser.close()"
   ]
  },
  {
   "cell_type": "code",
   "execution_count": 69,
   "id": "427774f4",
   "metadata": {},
   "outputs": [
    {
     "name": "stdout",
     "output_type": "stream",
     "text": [
      "Dispositivo disconnesso.\n"
     ]
    }
   ],
   "source": [
    "ad2.close()"
   ]
  }
 ],
 "metadata": {
  "kernelspec": {
   "display_name": "Python 3",
   "language": "python",
   "name": "python3"
  },
  "language_info": {
   "codemirror_mode": {
    "name": "ipython",
    "version": 3
   },
   "file_extension": ".py",
   "mimetype": "text/x-python",
   "name": "python",
   "nbconvert_exporter": "python",
   "pygments_lexer": "ipython3",
   "version": "3.12.6"
  }
 },
 "nbformat": 4,
 "nbformat_minor": 5
}
